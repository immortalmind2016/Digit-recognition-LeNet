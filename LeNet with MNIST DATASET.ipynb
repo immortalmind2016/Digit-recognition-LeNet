{
 "cells": [
  {
   "cell_type": "code",
   "execution_count": 46,
   "metadata": {},
   "outputs": [
    {
     "name": "stdout",
     "output_type": "stream",
     "text": [
      "10000\n"
     ]
    }
   ],
   "source": [
    "import tensorflow.keras\n",
    "import cv2\n",
    "from tensorflow.keras.preprocessing.image import ImageDataGenerator\n",
    "from tensorflow.keras.models import Sequential\n",
    "from tensorflow.keras.layers import Dense,Dropout,Activation,Flatten\n",
    "from tensorflow.keras.layers import Conv2D,MaxPool2D,BatchNormalization\n",
    "from tensorflow.keras.optimizers import Adam\n",
    "from tensorflow.keras.regularizers import l2\n",
    "from tensorflow.keras.datasets import mnist\n",
    "from keras.utils import np_utils\n",
    "(X_train,y_train),(X_test,y_test)=mnist.load_data()\n",
    "\n",
    "img_rows=X_train[0].shape[0]\n",
    "img_cols=X_train[0].shape[1]\n",
    "\n",
    "#MAKE OUR DATA RIGHT SHAPE FOR KERAS\n",
    "#WE WILL ADD 4th dimention to our data\n",
    "# original image shape ( 6000,28,28) to (6000,28,28,1)\\\n",
    "X_train=X_train.reshape(X_train.shape[0],img_rows,img_cols,1)\n",
    "X_test=X_test.reshape(X_test.shape[0],img_rows,img_cols,1)\n",
    "\n",
    "\n",
    "input_shape=(img_rows,img_cols,1)\n",
    "\n",
    "X_train=X_train.astype(\"float32\")\n",
    "X_test=X_test.astype(\"float32\")\n",
    "\n",
    "X_test/=255\n",
    "X_train/=255\n",
    "\n",
    "#One Hot Encode output\n",
    "y_train=np_utils.to_categorical(y_train)\n",
    "y_test=np_utils.to_categorical(y_test)\n",
    "\n",
    "num_classes=y_test.shape[1]\n",
    "num_pixels=X_train.shape[1]*X_train.shape[2]\n",
    "\n",
    "print(len(X_test))"
   ]
  },
  {
   "cell_type": "markdown",
   "metadata": {},
   "source": [
    "<h1> Build OUR LeNet Layers </h1>"
   ]
  },
  {
   "cell_type": "code",
   "execution_count": 37,
   "metadata": {},
   "outputs": [
    {
     "name": "stdout",
     "output_type": "stream",
     "text": [
      "Model: \"sequential_18\"\n",
      "_________________________________________________________________\n",
      "Layer (type)                 Output Shape              Param #   \n",
      "=================================================================\n",
      "conv2d_35 (Conv2D)           (None, 28, 28, 6)         156       \n",
      "_________________________________________________________________\n",
      "activation_23 (Activation)   (None, 28, 28, 6)         0         \n",
      "_________________________________________________________________\n",
      "max_pooling2d_33 (MaxPooling (None, 14, 14, 6)         0         \n",
      "_________________________________________________________________\n",
      "conv2d_36 (Conv2D)           (None, 14, 14, 16)        2416      \n",
      "_________________________________________________________________\n",
      "activation_24 (Activation)   (None, 14, 14, 16)        0         \n",
      "_________________________________________________________________\n",
      "max_pooling2d_34 (MaxPooling (None, 7, 7, 16)          0         \n",
      "_________________________________________________________________\n",
      "flatten_3 (Flatten)          (None, 784)               0         \n",
      "_________________________________________________________________\n",
      "dense_6 (Dense)              (None, 500)               392500    \n",
      "_________________________________________________________________\n",
      "activation_25 (Activation)   (None, 500)               0         \n",
      "_________________________________________________________________\n",
      "dense_7 (Dense)              (None, 10)                5010      \n",
      "_________________________________________________________________\n",
      "activation_26 (Activation)   (None, 10)                0         \n",
      "=================================================================\n",
      "Total params: 400,082\n",
      "Trainable params: 400,082\n",
      "Non-trainable params: 0\n",
      "_________________________________________________________________\n"
     ]
    }
   ],
   "source": [
    "model=Sequential()\n",
    "\n",
    "model.add(Conv2D(6,(5,5),input_shape=input_shape,padding=\"same\"))\n",
    "model.add(Activation(\"relu\"))\n",
    "model.add(MaxPool2D(pool_size=(2,2),strides=(2,2)))\n",
    "\n",
    "\n",
    "model.add(Conv2D(16,(5,5),padding=\"same\"))\n",
    "model.add(Activation(\"relu\"))\n",
    "model.add(MaxPool2D(pool_size=(2,2),strides=(2,2)))\n",
    "\n",
    "\n",
    "model.add(Flatten())\n",
    "model.add(Dense(500))\n",
    "model.add(Activation(\"relu\"))\n",
    "\n",
    "model.add(Dense(num_classes))\n",
    "model.add(Activation(\"softmax\"))\n",
    "\n",
    "model.compile(loss=\"categorical_crossentropy\",optmizer=Adam(),metrics=[\"accuracy\"])\n",
    "\n",
    "\n",
    "model.summary()"
   ]
  },
  {
   "cell_type": "code",
   "execution_count": 49,
   "metadata": {},
   "outputs": [
    {
     "name": "stdout",
     "output_type": "stream",
     "text": [
      "Train on 60000 samples, validate on 10000 samples\n",
      "Epoch 1/10\n",
      "60000/60000 [==============================] - 12s 205us/sample - loss: 0.3028 - accuracy: 0.9052 - val_loss: 0.1610 - val_accuracy: 0.9433\n",
      "Epoch 2/10\n",
      "60000/60000 [==============================] - 19s 310us/sample - loss: 0.0745 - accuracy: 0.9762 - val_loss: 0.0489 - val_accuracy: 0.9839\n",
      "Epoch 3/10\n",
      "60000/60000 [==============================] - 13s 209us/sample - loss: 0.0482 - accuracy: 0.9845 - val_loss: 0.0398 - val_accuracy: 0.9866\n",
      "Epoch 4/10\n",
      "60000/60000 [==============================] - 12s 200us/sample - loss: 0.0362 - accuracy: 0.9888 - val_loss: 0.0422 - val_accuracy: 0.9869\n",
      "Epoch 5/10\n",
      "60000/60000 [==============================] - 13s 211us/sample - loss: 0.0281 - accuracy: 0.9912 - val_loss: 0.0345 - val_accuracy: 0.9893\n",
      "Epoch 6/10\n",
      "60000/60000 [==============================] - 12s 195us/sample - loss: 0.0218 - accuracy: 0.9932 - val_loss: 0.0306 - val_accuracy: 0.9892\n",
      "Epoch 7/10\n",
      "60000/60000 [==============================] - 128s 2ms/sample - loss: 0.0176 - accuracy: 0.9946 - val_loss: 0.0292 - val_accuracy: 0.9902\n",
      "Epoch 8/10\n",
      "60000/60000 [==============================] - 57s 956us/sample - loss: 0.0146 - accuracy: 0.9954 - val_loss: 0.0357 - val_accuracy: 0.9885\n",
      "Epoch 9/10\n",
      "60000/60000 [==============================] - 25s 422us/sample - loss: 0.0115 - accuracy: 0.9964 - val_loss: 0.0348 - val_accuracy: 0.9900\n",
      "Epoch 10/10\n",
      "60000/60000 [==============================] - 14s 227us/sample - loss: 0.0094 - accuracy: 0.9973 - val_loss: 0.0393 - val_accuracy: 0.9892\n"
     ]
    }
   ],
   "source": [
    "import tensorflow as tf\n",
    "with tf.device(\"/cpu:0\"):\n",
    "    history=model.fit(X_train,y_train,batch_size=256,epochs=10,validation_data=(X_test,y_test),shuffle=True)\n",
    "\n",
    "model.save(\"./LeNet_w_mnist.h5\")\n"
   ]
  },
  {
   "cell_type": "code",
   "execution_count": null,
   "metadata": {},
   "outputs": [],
   "source": []
  }
 ],
 "metadata": {
  "kernelspec": {
   "display_name": "Python 3",
   "language": "python",
   "name": "python3"
  },
  "language_info": {
   "codemirror_mode": {
    "name": "ipython",
    "version": 3
   },
   "file_extension": ".py",
   "mimetype": "text/x-python",
   "name": "python",
   "nbconvert_exporter": "python",
   "pygments_lexer": "ipython3",
   "version": "3.6.7"
  }
 },
 "nbformat": 4,
 "nbformat_minor": 2
}
